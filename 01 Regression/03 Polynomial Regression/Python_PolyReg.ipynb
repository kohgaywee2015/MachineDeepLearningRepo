{
 "cells": [
  {
   "cell_type": "code",
<<<<<<< HEAD:OC_AZMachineLearning/02_Regression/06_PolyRegression/Python_PolyReg.ipynb
   "execution_count": 44,
=======
   "execution_count": 4,
>>>>>>> 95c18a0d689615bb411482efa8a968cc072ebfee:OC_AZMachineLearning/02_Regression/06_PolyRegression/.ipynb_checkpoints/Python_PolyRegression-checkpoint.ipynb
   "metadata": {
    "collapsed": true
   },
   "outputs": [],
   "source": [
    "import numpy as np\n",
    "import pandas as pd\n",
    "import matplotlib.pyplot as plt\n",
    "%matplotlib inline"
   ]
  },
  {
   "cell_type": "code",
<<<<<<< HEAD:OC_AZMachineLearning/02_Regression/06_PolyRegression/Python_PolyReg.ipynb
   "execution_count": 45,
   "metadata": {
    "collapsed": true
   },
   "outputs": [],
   "source": [
    "df = pd.read_csv(\"../archive/Position_Salaries.csv\")"
=======
   "execution_count": 5,
   "metadata": {},
   "outputs": [],
   "source": [
    "df = pd.read_csv(\"../Datasets/Position_Salaries.csv\")"
>>>>>>> 95c18a0d689615bb411482efa8a968cc072ebfee:OC_AZMachineLearning/02_Regression/06_PolyRegression/.ipynb_checkpoints/Python_PolyRegression-checkpoint.ipynb
   ]
  },
  {
   "cell_type": "code",
<<<<<<< HEAD:OC_AZMachineLearning/02_Regression/06_PolyRegression/Python_PolyReg.ipynb
   "execution_count": 46,
=======
   "execution_count": 6,
>>>>>>> 95c18a0d689615bb411482efa8a968cc072ebfee:OC_AZMachineLearning/02_Regression/06_PolyRegression/.ipynb_checkpoints/Python_PolyRegression-checkpoint.ipynb
   "metadata": {},
   "outputs": [
    {
     "data": {
      "text/html": [
       "<div>\n",
       "<style>\n",
       "    .dataframe thead tr:only-child th {\n",
       "        text-align: right;\n",
       "    }\n",
       "\n",
       "    .dataframe thead th {\n",
       "        text-align: left;\n",
       "    }\n",
       "\n",
       "    .dataframe tbody tr th {\n",
       "        vertical-align: top;\n",
       "    }\n",
       "</style>\n",
       "<table border=\"1\" class=\"dataframe\">\n",
       "  <thead>\n",
       "    <tr style=\"text-align: right;\">\n",
       "      <th></th>\n",
       "      <th>Position</th>\n",
       "      <th>Level</th>\n",
       "      <th>Salary</th>\n",
       "    </tr>\n",
       "  </thead>\n",
       "  <tbody>\n",
       "    <tr>\n",
       "      <th>0</th>\n",
       "      <td>Business Analyst</td>\n",
       "      <td>1</td>\n",
       "      <td>45000</td>\n",
       "    </tr>\n",
       "    <tr>\n",
       "      <th>1</th>\n",
       "      <td>Junior Consultant</td>\n",
       "      <td>2</td>\n",
       "      <td>50000</td>\n",
       "    </tr>\n",
       "    <tr>\n",
       "      <th>2</th>\n",
       "      <td>Senior Consultant</td>\n",
       "      <td>3</td>\n",
       "      <td>60000</td>\n",
       "    </tr>\n",
       "    <tr>\n",
       "      <th>3</th>\n",
       "      <td>Manager</td>\n",
       "      <td>4</td>\n",
       "      <td>80000</td>\n",
       "    </tr>\n",
       "    <tr>\n",
       "      <th>4</th>\n",
       "      <td>Country Manager</td>\n",
       "      <td>5</td>\n",
       "      <td>110000</td>\n",
       "    </tr>\n",
       "  </tbody>\n",
       "</table>\n",
       "</div>"
      ],
      "text/plain": [
       "            Position  Level  Salary\n",
       "0   Business Analyst      1   45000\n",
       "1  Junior Consultant      2   50000\n",
       "2  Senior Consultant      3   60000\n",
       "3            Manager      4   80000\n",
       "4    Country Manager      5  110000"
      ]
     },
<<<<<<< HEAD:OC_AZMachineLearning/02_Regression/06_PolyRegression/Python_PolyReg.ipynb
     "execution_count": 46,
=======
     "execution_count": 6,
>>>>>>> 95c18a0d689615bb411482efa8a968cc072ebfee:OC_AZMachineLearning/02_Regression/06_PolyRegression/.ipynb_checkpoints/Python_PolyRegression-checkpoint.ipynb
     "metadata": {},
     "output_type": "execute_result"
    }
   ],
   "source": [
    "df.head()"
   ]
  },
  {
   "cell_type": "code",
<<<<<<< HEAD:OC_AZMachineLearning/02_Regression/06_PolyRegression/Python_PolyReg.ipynb
   "execution_count": 47,
=======
   "execution_count": 7,
>>>>>>> 95c18a0d689615bb411482efa8a968cc072ebfee:OC_AZMachineLearning/02_Regression/06_PolyRegression/.ipynb_checkpoints/Python_PolyRegression-checkpoint.ipynb
   "metadata": {},
   "outputs": [
    {
     "data": {
      "text/html": [
       "<div>\n",
       "<style>\n",
       "    .dataframe thead tr:only-child th {\n",
       "        text-align: right;\n",
       "    }\n",
       "\n",
       "    .dataframe thead th {\n",
       "        text-align: left;\n",
       "    }\n",
       "\n",
       "    .dataframe tbody tr th {\n",
       "        vertical-align: top;\n",
       "    }\n",
       "</style>\n",
       "<table border=\"1\" class=\"dataframe\">\n",
       "  <thead>\n",
       "    <tr style=\"text-align: right;\">\n",
       "      <th></th>\n",
       "      <th>Level</th>\n",
       "      <th>Salary</th>\n",
       "    </tr>\n",
       "  </thead>\n",
       "  <tbody>\n",
       "    <tr>\n",
       "      <th>count</th>\n",
       "      <td>10.00000</td>\n",
       "      <td>10.000000</td>\n",
       "    </tr>\n",
       "    <tr>\n",
       "      <th>mean</th>\n",
       "      <td>5.50000</td>\n",
       "      <td>249500.000000</td>\n",
       "    </tr>\n",
       "    <tr>\n",
       "      <th>std</th>\n",
       "      <td>3.02765</td>\n",
       "      <td>299373.883668</td>\n",
       "    </tr>\n",
       "    <tr>\n",
       "      <th>min</th>\n",
       "      <td>1.00000</td>\n",
       "      <td>45000.000000</td>\n",
       "    </tr>\n",
       "    <tr>\n",
       "      <th>25%</th>\n",
       "      <td>3.25000</td>\n",
       "      <td>65000.000000</td>\n",
       "    </tr>\n",
       "    <tr>\n",
       "      <th>50%</th>\n",
       "      <td>5.50000</td>\n",
       "      <td>130000.000000</td>\n",
       "    </tr>\n",
       "    <tr>\n",
       "      <th>75%</th>\n",
       "      <td>7.75000</td>\n",
       "      <td>275000.000000</td>\n",
       "    </tr>\n",
       "    <tr>\n",
       "      <th>max</th>\n",
       "      <td>10.00000</td>\n",
       "      <td>1000000.000000</td>\n",
       "    </tr>\n",
       "  </tbody>\n",
       "</table>\n",
       "</div>"
      ],
      "text/plain": [
       "          Level          Salary\n",
       "count  10.00000       10.000000\n",
       "mean    5.50000   249500.000000\n",
       "std     3.02765   299373.883668\n",
       "min     1.00000    45000.000000\n",
       "25%     3.25000    65000.000000\n",
       "50%     5.50000   130000.000000\n",
       "75%     7.75000   275000.000000\n",
       "max    10.00000  1000000.000000"
      ]
     },
<<<<<<< HEAD:OC_AZMachineLearning/02_Regression/06_PolyRegression/Python_PolyReg.ipynb
     "execution_count": 47,
=======
     "execution_count": 7,
>>>>>>> 95c18a0d689615bb411482efa8a968cc072ebfee:OC_AZMachineLearning/02_Regression/06_PolyRegression/.ipynb_checkpoints/Python_PolyRegression-checkpoint.ipynb
     "metadata": {},
     "output_type": "execute_result"
    }
   ],
   "source": [
    "df.describe()"
   ]
  },
  {
   "cell_type": "code",
<<<<<<< HEAD:OC_AZMachineLearning/02_Regression/06_PolyRegression/Python_PolyReg.ipynb
   "execution_count": 48,
=======
   "execution_count": 8,
>>>>>>> 95c18a0d689615bb411482efa8a968cc072ebfee:OC_AZMachineLearning/02_Regression/06_PolyRegression/.ipynb_checkpoints/Python_PolyRegression-checkpoint.ipynb
   "metadata": {},
   "outputs": [
    {
     "data": {
      "text/plain": [
       "Position    object\n",
       "Level        int64\n",
       "Salary       int64\n",
       "dtype: object"
      ]
     },
<<<<<<< HEAD:OC_AZMachineLearning/02_Regression/06_PolyRegression/Python_PolyReg.ipynb
     "execution_count": 48,
=======
     "execution_count": 8,
>>>>>>> 95c18a0d689615bb411482efa8a968cc072ebfee:OC_AZMachineLearning/02_Regression/06_PolyRegression/.ipynb_checkpoints/Python_PolyRegression-checkpoint.ipynb
     "metadata": {},
     "output_type": "execute_result"
    }
   ],
   "source": [
    "df.dtypes"
   ]
  },
  {
   "cell_type": "code",
<<<<<<< HEAD:OC_AZMachineLearning/02_Regression/06_PolyRegression/Python_PolyReg.ipynb
   "execution_count": 49,
=======
   "execution_count": 9,
>>>>>>> 95c18a0d689615bb411482efa8a968cc072ebfee:OC_AZMachineLearning/02_Regression/06_PolyRegression/.ipynb_checkpoints/Python_PolyRegression-checkpoint.ipynb
   "metadata": {},
   "outputs": [
    {
     "data": {
      "text/plain": [
       "(10, 3)"
      ]
     },
<<<<<<< HEAD:OC_AZMachineLearning/02_Regression/06_PolyRegression/Python_PolyReg.ipynb
     "execution_count": 49,
=======
     "execution_count": 9,
>>>>>>> 95c18a0d689615bb411482efa8a968cc072ebfee:OC_AZMachineLearning/02_Regression/06_PolyRegression/.ipynb_checkpoints/Python_PolyRegression-checkpoint.ipynb
     "metadata": {},
     "output_type": "execute_result"
    }
   ],
   "source": [
    "df.shape"
   ]
  },
  {
   "cell_type": "code",
<<<<<<< HEAD:OC_AZMachineLearning/02_Regression/06_PolyRegression/Python_PolyReg.ipynb
   "execution_count": 50,
=======
   "execution_count": 10,
>>>>>>> 95c18a0d689615bb411482efa8a968cc072ebfee:OC_AZMachineLearning/02_Regression/06_PolyRegression/.ipynb_checkpoints/Python_PolyRegression-checkpoint.ipynb
   "metadata": {
    "collapsed": true
   },
   "outputs": [],
   "source": [
    "# Fixing decimals, lets see the answers\n",
    "df = df.round(0)"
   ]
  },
  {
   "cell_type": "code",
<<<<<<< HEAD:OC_AZMachineLearning/02_Regression/06_PolyRegression/Python_PolyReg.ipynb
   "execution_count": 51,
=======
   "execution_count": 11,
>>>>>>> 95c18a0d689615bb411482efa8a968cc072ebfee:OC_AZMachineLearning/02_Regression/06_PolyRegression/.ipynb_checkpoints/Python_PolyRegression-checkpoint.ipynb
   "metadata": {
    "collapsed": true
   },
   "outputs": [],
   "source": [
    "# Making Y-Variable\n",
    "y = df['Salary']\n",
    "\n",
    "Xs = df.drop(['Salary', 'Position'], axis=1)"
   ]
  },
  {
   "cell_type": "code",
<<<<<<< HEAD:OC_AZMachineLearning/02_Regression/06_PolyRegression/Python_PolyReg.ipynb
   "execution_count": 52,
=======
   "execution_count": 12,
>>>>>>> 95c18a0d689615bb411482efa8a968cc072ebfee:OC_AZMachineLearning/02_Regression/06_PolyRegression/.ipynb_checkpoints/Python_PolyRegression-checkpoint.ipynb
   "metadata": {
    "collapsed": true
   },
   "outputs": [],
   "source": [
    "# We are going to compare the linear regression with poly regression to check the comparsion of both model\n",
    "# and then we will cehck i fthere's an acutal difference btw both models"
   ]
  },
  {
   "cell_type": "code",
<<<<<<< HEAD:OC_AZMachineLearning/02_Regression/06_PolyRegression/Python_PolyReg.ipynb
   "execution_count": 53,
=======
   "execution_count": 13,
>>>>>>> 95c18a0d689615bb411482efa8a968cc072ebfee:OC_AZMachineLearning/02_Regression/06_PolyRegression/.ipynb_checkpoints/Python_PolyRegression-checkpoint.ipynb
   "metadata": {},
   "outputs": [
    {
     "data": {
      "text/plain": [
       "LinearRegression(copy_X=True, fit_intercept=True, n_jobs=1, normalize=False)"
      ]
     },
<<<<<<< HEAD:OC_AZMachineLearning/02_Regression/06_PolyRegression/Python_PolyReg.ipynb
     "execution_count": 53,
=======
     "execution_count": 13,
>>>>>>> 95c18a0d689615bb411482efa8a968cc072ebfee:OC_AZMachineLearning/02_Regression/06_PolyRegression/.ipynb_checkpoints/Python_PolyRegression-checkpoint.ipynb
     "metadata": {},
     "output_type": "execute_result"
    }
   ],
   "source": [
    "from sklearn.linear_model import LinearRegression\n",
    "\n",
    "# linear regression\n",
    "linreg = LinearRegression()\n",
    "linreg.fit(Xs, y)"
   ]
  },
  {
   "cell_type": "code",
<<<<<<< HEAD:OC_AZMachineLearning/02_Regression/06_PolyRegression/Python_PolyReg.ipynb
   "execution_count": 54,
=======
   "execution_count": 14,
>>>>>>> 95c18a0d689615bb411482efa8a968cc072ebfee:OC_AZMachineLearning/02_Regression/06_PolyRegression/.ipynb_checkpoints/Python_PolyRegression-checkpoint.ipynb
   "metadata": {},
   "outputs": [
    {
     "data": {
      "text/plain": [
       "LinearRegression(copy_X=True, fit_intercept=True, n_jobs=1, normalize=False)"
      ]
     },
<<<<<<< HEAD:OC_AZMachineLearning/02_Regression/06_PolyRegression/Python_PolyReg.ipynb
     "execution_count": 54,
=======
     "execution_count": 14,
>>>>>>> 95c18a0d689615bb411482efa8a968cc072ebfee:OC_AZMachineLearning/02_Regression/06_PolyRegression/.ipynb_checkpoints/Python_PolyRegression-checkpoint.ipynb
     "metadata": {},
     "output_type": "execute_result"
    }
   ],
   "source": [
    "# We are transforming the variables in the X to poly features to the degree \n",
    "\n",
    "from sklearn.preprocessing import PolynomialFeatures\n",
    "polyreg = PolynomialFeatures(degree=2)\n",
    "X_poly = polyreg.fit_transform(Xs)\n",
    "\n",
    "linreg_2 = LinearRegression()\n",
    "linreg_2.fit(X_poly, y)"
   ]
  },
  {
   "cell_type": "code",
<<<<<<< HEAD:OC_AZMachineLearning/02_Regression/06_PolyRegression/Python_PolyReg.ipynb
   "execution_count": 55,
=======
   "execution_count": 15,
>>>>>>> 95c18a0d689615bb411482efa8a968cc072ebfee:OC_AZMachineLearning/02_Regression/06_PolyRegression/.ipynb_checkpoints/Python_PolyRegression-checkpoint.ipynb
   "metadata": {},
   "outputs": [
    {
     "data": {
      "image/png": "iVBORw0KGgoAAAANSUhEUgAAAaEAAAEWCAYAAADPZygPAAAABHNCSVQICAgIfAhkiAAAAAlwSFlz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\n",
      "text/plain": [
<<<<<<< HEAD:OC_AZMachineLearning/02_Regression/06_PolyRegression/Python_PolyReg.ipynb
       "<matplotlib.figure.Figure at 0x11120b940>"
=======
       "<matplotlib.figure.Figure at 0x1a142fae10>"
>>>>>>> 95c18a0d689615bb411482efa8a968cc072ebfee:OC_AZMachineLearning/02_Regression/06_PolyRegression/.ipynb_checkpoints/Python_PolyRegression-checkpoint.ipynb
      ]
     },
     "metadata": {},
     "output_type": "display_data"
    }
   ],
   "source": [
    "# Visualizing the results \n",
    "plt.scatter(Xs, y, c='red')\n",
    "plt.plot(Xs, linreg.predict(Xs), c='blue')\n",
    "plt.title(\"Truth or Bluff (Linear Regression)\")\n",
    "\n",
    "\n",
    "plt.xlabel('Position label')\n",
    "plt.ylabel('Salary')\n",
    "plt.show()"
   ]
  },
  {
   "cell_type": "code",
<<<<<<< HEAD:OC_AZMachineLearning/02_Regression/06_PolyRegression/Python_PolyReg.ipynb
   "execution_count": 56,
=======
   "execution_count": 16,
>>>>>>> 95c18a0d689615bb411482efa8a968cc072ebfee:OC_AZMachineLearning/02_Regression/06_PolyRegression/.ipynb_checkpoints/Python_PolyRegression-checkpoint.ipynb
   "metadata": {},
   "outputs": [
    {
     "data": {
<<<<<<< HEAD:OC_AZMachineLearning/02_Regression/06_PolyRegression/Python_PolyReg.ipynb
      "image/png": "iVBORw0KGgoAAAANSUhEUgAAAaIAAAEWCAYAAAAkUJMMAAAABHNCSVQICAgIfAhkiAAAAAlwSFlz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\nRU5ErkJggg==\n",
      "text/plain": [
       "<matplotlib.figure.Figure at 0x11184bb70>"
=======
      "image/png": "iVBORw0KGgoAAAANSUhEUgAAAaEAAAEWCAYAAADPZygPAAAABHNCSVQICAgIfAhkiAAAAAlwSFlz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\nRK5CYII=\n",
      "text/plain": [
       "<matplotlib.figure.Figure at 0x1a1c7bcd68>"
>>>>>>> 95c18a0d689615bb411482efa8a968cc072ebfee:OC_AZMachineLearning/02_Regression/06_PolyRegression/.ipynb_checkpoints/Python_PolyRegression-checkpoint.ipynb
      ]
     },
     "metadata": {},
     "output_type": "display_data"
    }
   ],
   "source": [
    "# Visualizing the results \n",
    "plt.scatter(Xs, y, c='red')\n",
    "plt.plot(Xs, linreg_2.predict(X_poly), c='blue')\n",
    "plt.title(\"Truth or Bluff (Polynomial Regression)\")\n",
    "plt.xlabel('Position label')\n",
    "plt.ylabel('Salary')\n",
    "plt.show()"
   ]
  },
  {
   "cell_type": "code",
<<<<<<< HEAD:OC_AZMachineLearning/02_Regression/06_PolyRegression/Python_PolyReg.ipynb
   "execution_count": 57,
=======
   "execution_count": 17,
>>>>>>> 95c18a0d689615bb411482efa8a968cc072ebfee:OC_AZMachineLearning/02_Regression/06_PolyRegression/.ipynb_checkpoints/Python_PolyRegression-checkpoint.ipynb
   "metadata": {},
   "outputs": [
    {
     "data": {
      "image/png": "iVBORw0KGgoAAAANSUhEUgAAAaEAAAEWCAYAAADPZygPAAAABHNCSVQICAgIfAhkiAAAAAlwSFlz\nAAALEgAACxIB0t1+/AAAADl0RVh0U29mdHdhcmUAbWF0cGxvdGxpYiB2ZXJzaW9uIDIuMS4wLCBo\ndHRwOi8vbWF0cGxvdGxpYi5vcmcvpW3flQAAIABJREFUeJzt3XmYVMXZ/vHvA4jIIruiIKBCVDQC\nOkHEXRRwxRjzaiSKBl80UWOWN4nR/GKMIdFoonFNcMVIXOIS0ajgvgRFFhVQVFCQRZZRBJFB1uf3\nR1Wne9rZ6e7TM3N/rmuu7q4+fU51M/Q9VadOlbk7IiIiSWiSdAVERKTxUgiJiEhiFEIiIpIYhZCI\niCRGISQiIolRCImISGIUQpIXZtbLzIpm/L+ZHWVmC2qx/QVmtsLMvjCztmZ2iJnNi4+Pr+Q1V5vZ\nBTmo62IzO3xr95NLZjbJzEbUcNuiq3+umNnhZvZ2DvaznZm9Z2Ydc1Gv+kwh1AjFL9LUzxYzW5fx\nuEZfNBXsM9EvHjP7nZltzHgf75jZSXXcVwvgGuAId2/t7quB3wHXxsePV/CaLsB3gNvi46PiZ/uF\nma0xs3fNbGTd32Gy3H2Iu4/f2v2Y2T1mtiF+LitjuH0tF3UsBHd/wd33zsF+1gHjgJ9vfa3qN4VQ\nIxS/SFu7e2tgIXBCRtlXvmjMrFnha1m5KuozPuN9/R9wr5l1qsMhugDbunvmX7w9gKr+Aj4beMzd\nv8woWxjrsj1wKXC7me1Rh/o0NL+Pn0tXYAVwaz4OUmy/txUYD5xtZtskXZEkKYTkK2Kr4n4zu9fM\n1gDfjX/B/iZjm/92b5nZvcDOwJPxL9yfZGx3ZmwllZrZxVUcs108RqmZLTCzX5qZxefOMbOXzOx6\nM1sJ/Kq69+DuTwDrgN0qOFYzM3Mz65lRdo+Z/cbM9iKGTXwvk+L77J7x/ppWcMhjgBcrqYu7+0PA\nGmCvuO+TzOxtM1tlZs9VFE5m1tXMysysXUbZAWa2LL6Hc8zsRTO7Nu7nQzMbkrFtNzN7PLY45prZ\n9zKe+52Z3Rf/jb8ws7fMbHcz+1X8N1hoZkdlbP+KmZ0V7/c2s+fN7FMz+8TM/m5mbSt671WJrYEH\ngH5Z7/uc2HL8zMyeNLNdMp47xszeN7PVZnaDmf0no14V/p5Utj8zaxK3XRH3N9PM+sTnjjezObEV\nu9jMfhzLy3Xrmtne8d9glZnNMrPjMp67J+7/ybifV81s14z3/xGwFhhQ28+uIVEISWW+CfwDaAvc\nX9WG7v4d4GPgmNgS+XPG04OAXsBQ4HIz613Jbm4GWhJC40hgFHBm1n7mAJ2Bq6qqjwUnAga8W9W2\nFbyXOUDfeL917IbqmfX+Nlfw0q8D71VSnyZmdgrQGpgVg+4e4ML4fp4BHrOsv4jdfQnwCvDtjOLv\nAve6+6b4eBAwC+gIXAvcnrHt/cB8wh8IpwJ/NLPDMp4fHrdvRwjeZ4BNwE7AH4BbKno/hM/1d3G7\nPoR/s/9XybaVMrPWhC7MeRllpwA/i3XrDEwh/B5iZjsQQutnQKf43rK/wMv9nlS1P8IfDgOB3kB7\n4DRgZXzuTmCUu7cB9qWCPzDMrDnwOPDvuO8fA/ebWa+MzU4nfDYdCL0OV2Tt5r+/b42VQkgq84q7\nP+buW+JfrHX1G3f/0t1nEL7ovvIfLn75/g9wsbuvcfcPCV+oZ2RsttDdb3H3zVXU53QzW0X46/IR\n4Hfu/vlW1L022hJaOpm6x/p8QuiOG+HuHxC+7Ca4+3PuvhG4ktBld0AF+x1HCJ5U99KpwN8znv/A\n3e+IwTgO6GZmneJf3AMIn2nq87+T8p/pC+7+TAy0fxK+KP8YH98H9IpBUY67v+/uz7r7BndfQfi3\nOix7uypcHD+XNfE9Z54rO5fQXfderMfvgAFm1hU4HnjT3R+Nn9u1hM82U/bvSVX720j43PeM7+sd\nd18W97MR6GNmbdx9Zfz8sh0ENAeudveN7v4M8CTh3zflQXefFus7nqxWX/wM2tGIKYSkMotysZOM\n/9QAZYTWQLYdgKbARxllHxHOGdSmPv9w93bu3pLw1+05ZjaqllWuq1VAm6yyhbE+Hdy9v7s/EMt3\nJuO9uvsWYDHl32/KI0BfM+sODANKs74Qsz9fCJ/xzsAn7r424/nsz3R5xv11cd9bMh6n9lWOmXUx\nswfMbImZfQ7cRWiZ1NSV7t4O2BXYQPi3SukB3BS7t1IBvgXoFt/Tf38PPMy+vDhr39m/J5Xuz90n\nAX8ltPiWm9lfzSz1b/hN4ERgoZm9YGYV/YGwM+HfOHMUaPZnXN3vfxvC706jpRCSymQPr15L6C5L\n6VLN9rWxAthM+MJI6Q4sqev+Y2vqKeCECp7bBKyn6vdTWzOBmo7y+piM92pmTQhfskuyN3T3MuAh\nYAShFfP37G2qOEYnM2uVUZb9mdbVVYTP7+vuvj1wFqGLrlbcfQGhC+sGM9s2Fi8idIO1y/jZzt2n\nAEsJnxMQul35anBn/55UtT/c/Tp33w/Yh9C1+JNYPsXdTyT8gfQ4oWWY7WNgl1iPlNp+xnsBb9Vi\n+wZHISQ19SZwnJm1N7OdgB9mPb+cCgYB1ETsqngQ+L2ZtY5dST8mnDepk3jyeSiVj2h7CxhhZk3j\nyeSD63qs6Alq3iX1AHCihWtOtiGcs1hDOF9RkbuB7wHHUcPPxN3nA9MIn+m2ZtaPMIJvq4dZE/56\nXwusjp/z/9V1R+7+JFAKnBOL/gpcGs+bpQasnBKfexzYz8xOiF2TFxHOxVSl0v2Z2YD40yy+nw3A\nZgvX8JxuZtvH3801hD+Ssk0mnEP7qZltY2ZHAscS/n2rFVu3rYGpNdm+oVIISU3dRTiJ+hGhhZH9\nl+HvCQMPVpnZj+qw/x8QvgTmE04CjyN8+dbGCIvXCRG+0F8gnAOoyA8JXS6rCCf+J9ShzpnGASdk\n/EVfqTj0eyShG6iU0M12YvzCq8hLhO7KKe6e3f1UlVMJXV3LCCF/ibs/X4vXV+Yywvmm1YTP7aGt\n3N81wC/MrLm7/xP4M/DP2NU3k/DHBO6+nPCe/gx8CuwOvEFolVWoqv0RzsXcTvgdWEBoaV0bnxsJ\nfBRfM4ry59JS+15PaGkPJ3TzXQ+c7u7v1/B9jwDudPcNNdy+QTLXonYiOWFmfyScI7gxD/t+CbjD\n3e/K9b7rKwtD5T8GTnH3l5OuT22Y2XaE3oWD3D17cEWjohASKXJmNpDQ3bdL1kCDRsfMhgGvAl8C\nvwT+F9gttkqkHlJ3nEgRM7PxhO7Pixp7AEUHAx8Sur+GAScpgOo3tYRERCQxagmJiEhiin2Cv8R1\n6tTJe/bsmXQ1RETqlenTp3/i7tUNoVcIVadnz55MmzYt6WqIiNQrZvZR9VupO05ERBKkEBIRkcQo\nhEREJDEKIRERSYxCSEREEpO3EDKzO+KyubMzyjqY2dMWlhp+2szax3KLy+DOs7DE7n4ZrxkZt59r\nZiMzyvePy+nOi6+1uh6jwRo/Hnr2hCZNwu34XEygLCKSO/lsCd1FmFYj08XAs+7eG3g2PoawzG7v\n+DOauKywmXUgzNh7AGHW3stSoRK3GZ3xumF1OUaDNX48jB4NH30E7uF29GgFkYgUlbyFkLu/RHq9\n9pThhCnvibcnZZTf7cFrQLu4Zs1Q4Om4vO5nwNPAsPjc9u7+alzV8O6sfdXmGA3TpZdCWVn5srKy\nUC4iUiQKfU5oR3dfChBvd4jlXSm/LG9qqeOqyhdXUF6XY3yFmY02s2lmNq20tLRWb7BoLFxYu3IR\nkQQUy8CEipYG9jqU1+UYXy10H+vuJe5e0rlztbNOFKfu3WtXLiKSgEKH0PJUF1i8XRHLFwO7ZGzX\njbBYVVXl3Soor8sxGqYxY6Bly/JlLVuGchGRIlHoEJpAWDaXePtoRvmZcQTbQGB17EqbCAwxs/Zx\nQMIQYGJ8bo2ZDYyj4s7M2ldtjtEwjRgBY8dCjx5gFm7Hjg3lIiJFIm8TmJrZvcDhQCczW0wY5XYl\n8ICZjQIWAt+Omz8BHAvMA8qAswHcfaWZXQFMjdv91t1Tgx2+TxiBtx3wZPyhtsdo0EaMUOiISFHT\nonbVKCkpcc2iLSJSO2Y23d1LqtuuWAYmiIhII6QQEhGRxCiEREQkMQqhBm7aNPjJT2DSJFi3Luna\niIiUpxBq4N56C26+GYYOhQ4dYNgwuO46mDMnTCknIpIkhVADN2oUrFwJTzwB554LCxbAj38MffqE\nS4dGj4aHHoJVq5KuqYg0RhqiXY2GOET7o49g4kR46il49ln4/HNo2hQGDgwtpqFDYf/9Q5mISF3U\ndIi2QqgaDTGEMm3cCFOmhECaOBGmTw/ddB06wJAhIZCGDIGdd066piJSnyiEcqShh1C20lJ45pkQ\nSpMmwbJloXzffdOtpIMPhm23TbaeIlLcFEI50thCKJM7zJyZbiW98kpoObVsCUcckQ6l3r3D9HQi\nIikKoRxpzCGU7Ysv4IUX0qE0b14o33XXdCAdeSRsv32i1RSRIqAQyhGFUOU++CCE0cSJ8NxzIaSa\nNYNBg0IgDRsG/fpBE43BFGl0FEI5ohCqmQ0bYPLkdCi98UYo79y5/ACHHXdMtp4iUhgKoRxRCNXN\n8uVhYMPEieE2tUp6//7prrtBg6B582TrKSL5oRDKEYXQ1tuyJbSMUq2kyZNh0yZo3TqcQ0p13e22\nW9I1FZFcUQjliEIo9z7/PJxDSl0wu2BBKO/VKx1Ihx8eQkpE6ieFUI4ohPLLHebOTbeSnn8eyspg\nm23C9UjDhoVg2ndfDQMXqU8UQjmiECqs9evD9UipVtKsWaG8S5f0uaSjj4ZOnZKtp4hUTSGUIwqh\nZH38cfkBDitXhhbR/vunW0kDB4ah4SJSPBRCOaIQKh6bN4e57VKtpNdeC4Mett8eBg9Oh1KPHknX\nVEQUQjmiECpeq1aFWcBTobRoUSjfY490IB12WJhmSEQKSyGUIwqh+sEd3n03HUgvvghffhkmWj30\n0PT5pL331gAHkUJQCOWIQqh+WrcOXn45Pc/dO++E8q5d04F01FFhyQoRyT2FUI4ohBqGRYvSw8Cf\neSZ05TVpAgMGpENpwAAt5CeSKwqhHFEINTybNsHUqelW0uuvh+689u1D6ygVSt26JV1TkfpLIZQj\nCqGGb+XK9EJ+EyeGYeEQzh+lAunQQ6FFi2TrKVKfKIRyRCHUuLjD22+nA+mll8IM4dttF0bapaYV\n2mMPDXAQqYpCKEcUQo3b2rVhpF3qfNJ774Xy7t3TgTR4MLRtm2w9RYqNQihHFEKSacGC8gMc1qwJ\ngxkGDkyH0v77ayE/EYVQjiiEpDIbN4ZZG1KhNH166M7r2DHMbzdsWFjIb6edkq6pSOEphHJEISQ1\nVVoKTz+dDqXly0P5vvumZ3A46KBwAa1IQ1fTEEqk08DMfmxmb5vZbDO718xamNmuZjbFzOaa2f1m\n1jxuu218PC8+3zNjP7+M5e+Z2dCM8mGxbJ6ZXZxRXuExRHKhc2c4/XQYNy6MsHvjDbjyytAyuvba\ncO6oY0c4/ni48cawhIX+BpTGruAhZGZdgR8CJe6+D9AUOA24CrjW3XsDnwGj4ktGAZ+5ey/g2rgd\nZtYnvm5vYBhws5k1NbOmwE3AMUAf4DtxW6o4hkhONWkC/frBL34RFvBbuRImTICzzgrTC114IXzt\na7D77vCDH8Cjj4bzSyKNTVKnT5sB25lZM6AlsBQ4EngwPj8OOCneHx4fE58fbGYWy+9z9/XuPh+Y\nBwyIP/Pc/UN33wDcBwyPr6nsGCJ51bo1nHBCaAHNmxd+broJ9tkH7r4bTjopTCF0+OHwhz/AjBlh\nhnCRhq7gIeTuS4BrgIWE8FkNTAdWufumuNlioGu83xVYFF+7KW7fMbM86zWVlXes4hjlmNloM5tm\nZtNKS0vr/mZFKpFqAU2YEFpJzz8P//d/sHo1XHJJGGG3005wxhlwzz2wYkXSNRbJjyS649oTWjG7\nAjsDrQhdZ9lSveUVXRLoOSz/aqH7WHcvcfeSzp07V7SJSM40b55uAb3xBixdGlpHRx8dLpo94wzY\ncccQTJdcEq5b2rgx6VqL5EYS3XFHAfPdvdTdNwIPA4OAdrF7DqAbECdPYTGwC0B8vi2wMrM86zWV\nlX9SxTFEikaXLukW0PLlMG0ajBkDrVrB1VeHwOrYMXTh3XILfPhh0jUWqbskQmghMNDMWsbzNIOB\nd4DngVPiNiOBR+P9CfEx8fnnPIwrnwCcFkfP7Qr0Bl4HpgK940i45oTBCxPiayo7hkhRatIk3QJ6\n6SX49FN45JEwCu+tt0KX3u67h0EOF14Ijz8OX3yRdK1Fai6R64TM7HLgVGAT8AZwDuH8zH1Ah1j2\nXXdfb2YtgL8D/QktoNPc/cO4n0uB78X9/Mjdn4zlxwLXEUbe3eHuY2L5bhUdo6q66johKVbuYZh3\nap67F16AsrLQvXfwwenJV/fdV/PcSeHpYtUcUQhJffHll/DKK+mLZWfNCuU77RRmbhg6NJxn6tQp\n2XpK46AQyhGFkNRXS5bApEkhkJ5+OozCM4OSkvQ8dwccAM2aVb8vkdpSCOWIQkgags2bw9x2qa67\n114L1yG1bRtmckhNK9S9e9I1lYZCIZQjCiFpiD77DJ59Nt11tyheWbfnnulAOuywsI6SSF0ohHJE\nISQNnTvMmZMOpBdfDOeXtt02rCibCqU+fTTAQWpOIZQjCiFpbNatC8PBU6H0zjuhvFu3MMBh2DA4\n6iho3z7ZekpxUwjliEJIGrtFi8ov5LdqVbh+acCAdCvpG98Ii/uJpCiEckQhJJK2aRO8/no6lF5/\nPXTntW8fhn+nrk3qWuGsjNKYKIRyRCEkUrlPPw2to4kTw8i7pUtD+T77pAPpkEOgRYtk6ymFpxDK\nEYWQSM24w+zZ6UB6+WXYsCGMsDv88HQo7bGHBjg0BgqhHFEIidTN2rVhpF0qlN5/P5T36JEOpMGD\nw7VK0vAohHJEISSSGwsWpAPp2WfDSrJNm8KBB6ZDaf/9w6AHqf8UQjmiEBLJvY0bw6wNqVCaPj2U\nd+qUHuAwZEiY907qJ4VQjiiERPKvtDTMb/fUU2G+u+XLQ3nfvul57g46KMwQLvWDQihHFEIihbVl\nC8ycmZ7n7j//CS2nVq3giCPSodSrV9I1laoohHJEISSSrDVr4Pnn09cmffBBKN9tt3QgHXEEtGmT\nbD2lPIVQjiiERIrLvHnpQHruuTAKb5ttYNCgdCj17asBDklTCOWIQkikeG3YAJMnp7vu3nwzlO+w\nQ3qeu6OPDo+lsBRCOaIQEqk/li1LL+Q3aRJ88kko32+/9Dx3Bx4YWk6SXwqhHFEIidRPW7bAjBnp\nrrvJk8Pifm3awJFHpkNp112TrmnDpBDKEYWQSMOwenU4h5QKpQULQnnv3ulAOvzwMApPtp5CKEcU\nQiINj3uYRigVSM8/H9ZRat48TLiamsHh61/XPHd1pRDKEYWQSMP35ZfwyivpUJo1K5TvvHMY4DB0\naBjg0LFjsvWsTxRCOaIQEml8liwpP8Dhs89Ci+gb30i3kg44AJo1S7qmxUshlCMKIZHGbfNmmDYt\nPc/dlClh0EPbtmGZ81Qode+edE2Li0IoRxRCIpLps8/CLOCpUFq8OJTvtVc6kA47LKyj1JgphHJE\nISQilXGHOXPSgfTSS+H8UosWcOih6Rkc9tqr8Q1wUAjliEJIRGpq3boQRKlQmjMnlHfrlg6kwYOh\nfftk61kICqEcUQiJSF0tXBgGNjz1FDzzTLhWqUmTMKghdW1SSUlY3K+hUQjliEJIRHJh0yZ4/fX0\nPHdTp4buvA4dwgCHYcPCcPCuXZOuaW4ohHJEISQi+fDpp2Ehv9S1SUuXhvJ99kl33R18cDi/VB8p\nhHJEISQi+eYOs2enW0kvvxxmCN9uuzCVUKrr7mtfqz8DHGoaQomsuGFm7czsQTN718zmmNmBZtbB\nzJ42s7nxtn3c1szsejObZ2YzzWy/jP2MjNvPNbORGeX7m9ms+JrrzcI/W2XHEBFJklmYIuhnPwvn\njlauhH//G845Jyzid9FFsOeeYbLV886DRx4J55cagqSWffoL8JS77wn0BeYAFwPPuntv4Nn4GOAY\noHf8GQ3cAiFQgMuAA4ABwGUZoXJL3Db1umGxvLJjiIgUjVat4Nhj4frr4b334MMP4ZZboH9/+Mc/\n4OSTwxRChx4KY8aEi2m3bEm61nVT8O44M9seeAvYzTMObmbvAYe7+1Iz2wl4wd33MLO/xfv3Zm6X\n+nH3c2P534AX4s/zMeAws++ktqvsGFXVV91xIlJMNm6EV19Nn0uaPj2Ud+qUnuduyBDo0iXZeta0\nOy6JmY92A0qBO82sLzAduAjY0d2XAsSQSK2F2BVYlPH6xbGsqvLFFZRTxTFEROqFbbYJLaBUK2jF\nivQAh0mTQksJoF+/9AwOBx0UZggvRkl0xzUD9gNucff+wFqq7har6DSc16G8xsxstJlNM7NppaWl\ntXmpiEhB7bADjBgBd98NH38cFvL7wx+gXTv405/CAn4dOsCJJ8JNN8G8eUnXuLwkQmgxsNjdp8TH\nDxJCaXnsIiPersjYfpeM13cDPq6mvFsF5VRxjHLcfay7l7h7SefOnev0JkVECq1Jk3De6OKLwxpJ\nK1fCo4/CyJHw9ttwwQVhEb9eveD882HCBFizJuE6F/qA7r4MWGRmqXMxg4F3gAlAaoTbSODReH8C\ncGYcJTcQWB271CYCQ8ysfRyQMASYGJ9bY2YD46i4M7P2VdExREQanDZt0i2gDz6AuXPhxhuhTx8Y\nNw6GDw8DHI44Aq68Et58s/ADHBK5TsjM+gG3Ac2BD4GzCYH4ANAdWAh8291XxiC5kTDCrQw4292n\nxf18D7gk7naMu98Zy0uAu4DtgCeBC93dzaxjRceoqq4amCAiDdH69TB5cnqeu7feCuU77hgGNpx6\nKhx3XN33r4tVc0QhJCKNwbJl6YX87r8/XLtUVhYGQtRFTi9WNbMGOL2eiIikdOkCZ54ZWkCbN8Mv\nf1n3AKqNmp4TmmdmV5tZn7zWRkREEvPppzB6dBje/atfFeaYNQ2hfYH3gdvM7LU4hHn7PNZLREQK\n7IILwoi6u+4q3HVFNQohd1/j7re6+yDg54Tpcpaa2Tgz65XXGoqISN49+CDcdx/8+tfQt2/hjlvj\nc0JmdqKZPUKY9+1PhJkPHgOeyGP9REQkz1asgO9/H/bfP1xjVEg1nbZnLvA8cLW7T84of9DMDs19\ntUREpBDcQwB9/nm4dqhZgSdzq/ZwcWTcXe7+24qed/cf5rxWIiJSEPfeCw8/DFddBXvvXfjjV9sd\n5+6bgSMKUBcRESmgpUvDYISBA+GnP02mDjVteE02sxuB+wkTjgLg7jPyUisREckr9zAce926MBqu\naUJXg9Y0hAbF28wuOQeOzG11RESkEMaNg8cfh2uvhT2qXFUtv2oUQu6u7jgRkQZi8eKwZPghh8AP\nEz6rX+NxEGZ2HLA30CJVVtlgBRERKU7uMGoUbNoEd94Zln9IUk2vE/orcCpwIWHRuG8DPfJYLxER\nyYNbbw0TlV59Ney+ewUbjB8PPXuGdOrZMzzOo5pm4CB3PxP4zN0vBw6k/IJyIiJS5BYsCKPgBg+G\n886rYIPx48NohY8+Ck2mjz4Kj/MYRDUNoXXxtszMdgY2Arvmp0oiIpJrW7bA974Xlmi4/fZKuuEu\nvTSs35CprCyU50lNzwk9bmbtgKuBGYSRcbflrVYiIpJTN98clvy+9VboUdnJlIULa1eeAzUdHXdF\nvPuQmT0OtHD31XmrlYiI5My8efCLX8CwYWFQQqW6dw9dcBWV50mVIWRmJ1fxHO7+cO6rJCIiubJ5\nM5x9dlig7tZbQ3dcpcaMCeeAMrvkWrYM5XlSXUvohCqec0AhJCJSxP7yF3jllXBxardu1Ww8YkS4\nvfTS0AXXvXsIoFR5Hpi7523nDUFJSYlPmzYt6WqIiNTau+9C//4wZAj861/VtIJyzMymu3tJddvp\nYlURkQZo0yY466zQm/a3vxU2gGqjRiEUL1ZtSZhN+zbgFOD1PNZLRES2wjXXwJQpYamGLl2Srk3l\ndLGqiEgDM3s2XHYZnHIKnHpq0rWpWl0vVt2ELlYVESk6GzfCyJHQtm24NqhYu+FSanux6h+B6bFM\nF6uKiBSZP/wBZsyAhx6Czp2Trk31qrtO6BvAotTFqmbWGpgFvAtcm//qiYhITb35JlxxBZx+Opxc\n6VWexaW67ri/ARsAzOxQ4MpYthoYm9+qiYhITW3YELrhOnWCG25IujY1V113XFN3XxnvnwqMdfeH\nCNP3vJnfqomISE399rcwcyZMmAAdOiRdm5qrriXU1MxSQTUYeC7juRpfYyQiIvkzdSpceWVoCZ1Q\n1Tw3Rai6ILkXeNHMPiGMkHsZwMx6EbrkREQkQV9+GcKnSxe47rqka1N7VYaQu48xs2eBnYBJnp7j\npwlhlVUREUnQr38Nc+bAU09Bu3ZJ16b2qr1OyN1fc/dH3H1tRtn77j5jaw5sZk3N7I24NARmtquZ\nTTGzuWZ2v5k1j+Xbxsfz4vM9M/bxy1j+npkNzSgfFsvmmdnFGeUVHkNEpD6aPDnMjPC//wtDh1a/\nfTGq6cWq+XARMCfj8VXAte7eG/gMSK16MYowU0MvwrDwqwDMrA9wGmE+u2HAzTHYmgI3AccAfYDv\nxG2rOoaISL1SVhbmhuveHf70p6RrU3eJhJCZdQOOI17wamYGHAk8GDcZB5wU7w+Pj4nPD47bDwfu\nc/f17j4fmAcMiD/z3P1Dd98A3AcMr+YYIiL1yiWXwNy5cMcd0KZN0rWpu6RaQtcBPwe2xMcdgVXu\nvik+Xgx0jfe7AosA4vOr4/b/Lc96TWXlVR1DRKTeePHFsE7Q+efDkUcmXZutU/AQMrPjgRXuPj2z\nuIJNvZrnclVeUR1Hm9k0M5tWWlpa0SYiIon44ouwUuruu8NVVyVdm62XxLU+BwEnmtmxhLWJtie0\njNqZWbPYUukGfBy3X0yYsXtxvGapLbAyozwl8zUVlX9SxTHKcfexxBkhSkpKtOqfiBSNn/8cFiwI\nraFWrZKuzdYreEvI3X/p7t2cW/TFAAAU70lEQVTcvSdhYMFz7j4CeJ6wThHASODReH9CfEx8/rk4\nVHwCcFocPbcr0JuwxtFUoHccCdc8HmNCfE1lxxARKXrPPAO33AI/+hEcckjStcmNJEfHZfsF8BMz\nm0c4f3N7LL8d6BjLfwJcDODubwMPAO8ATwHnu/vm2Mq5AJhIGH33QNy2qmOIiBS1zz+HUaNgjz1g\nzJika5M7lr7+VCpSUlLi06ZNS7oaItLInXMO3Hkn/Oc/MHBg0rWpnplNd/eS6rYrppaQiIhU4Mkn\n4fbb4Wc/qx8BVBsKIRGRIvbZZ6EVtPfecPnlSdcm9zQTtohIEbvoIli+PCzRsO22Sdcm99QSEhEp\nUo8+Cn//e5gdYf/9k65NfiiERESK0KefwrnnQr9+8KtfJV2b/FF3nIhIETr/fFi5EiZOhOYNeL5/\nhZCISJH55z/h/vvhiiugb9+ka5Nf6o4TESkiK1bAD34QzgFdfHH129d3CiERkSLhDuedF2ZHGDcO\nmjWCvqpG8BZFRIrfpk2hBfTII2F27L33TrpGhaEQEhFJ2Nq1cOqp8O9/h+HYP/tZ0jUqHIWQiEiC\nVqyA446DGTPCDNnnnZd0jQpL54RERBIydy4ceCC8/Tb8619wXpvx0LMnNGkSbsePT7qKeaeWkIhI\nAl57DY4/HszghRdgwNzxMHo0lJWFDT76KDwGGDEisXrmm1pCIiIF9uijcMQR0K4dvPoqDBgAXHpp\nOoBSyspCeQOmEBIRKaCbb4aTT4Z99w0B1KtXfGLhwopfUFl5A6EQEhEpgC1bwsWn558fBiI89xx0\n7pyxQffuFb+wsvIGQiEkIpJnGzbAmWeG63/OPRcefhhatcraaMwYaNmyfFnLlg1rLe8KKIRERPJo\n9Wo45pgw0O33vw/DsCucCWHECBg7Fnr0CKMVevQIjxvwoATQ6DgRkbxZvBiOPRbmzIG774Yzzqjm\nBSNGNPjQyaYQEhHJg9mzQwto9Wp44gk4+uika1Sc1B0nIpJjL7wABx8MmzfDSy8pgKqiEBIRyaH7\n7oOhQ6Fr13BBar9+SdeouCmERERywB2uuQa+8x0YOBBeeaXBj67OCYWQiMhW2rwZLroozH79P/8T\nluRu3z7pWtUPCiERka2wbl0InhtugJ/+FO69F1q0SLpW9YdGx4mI1NGnn8KJJ4bpd667LrSGpHYU\nQiIidTB/PgwbFia7fuABOOWUpGtUPymERERqafr0MP/bhg3wzDNhOLbUjc4JiYjUwpNPwmGHhfM+\n//mPAmhrKYRERGro9tvhhBPga18L54H22ivpGtV/CiERkWq4w29+A+ecA0cdBS++CDvtlHStGoaC\nh5CZ7WJmz5vZHDN728wuiuUdzOxpM5sbb9vHcjOz681snpnNNLP9MvY1Mm4/18xGZpTvb2az4muu\nNzOr6hgi0siNHw89e0KTJuF2/Pj/PrVxYwifyy+Hs86Cxx6DNm2SqmjDk0RLaBPwU3ffCxgInG9m\nfYCLgWfdvTfwbHwMcAzQO/6MBm6BECjAZcABwADgsoxQuSVum3rdsFhe2TFEpLEaPx5Gjw7D3NzD\n7ejRMH48X3wRhmDfcQf8+tfhdpttkq5ww1LwEHL3pe4+I95fA8wBugLDgXFxs3HASfH+cOBuD14D\n2pnZTsBQ4Gl3X+nunwFPA8Pic9u7+6vu7sDdWfuq6Bgi0lhdeimUlZUvKytj2cXXcdhh8PTTYVmf\nyy8Py/xIbiU6RNvMegL9gSnAju6+FEJQmdkOcbOuwKKMly2OZVWVL66gnCqOkV2v0YSWFN01+ZNI\nw7Zw4VeK3uNrDFv8ACtWwqOPhuHYkh+JDUwws9bAQ8CP3P3zqjatoMzrUF5j7j7W3UvcvaRzuUXg\nRaTByfpDczIHMojJlDVpzYsvKoDyLZEQMrNtCAE03t0fjsXLY1ca8XZFLF8M7JLx8m7Ax9WUd6ug\nvKpjiEhjNWYMtGwJwCOcxGCepaOt5NVrJlNSknDdGoEkRscZcDswx93/nPHUBCA1wm0k8GhG+Zlx\nlNxAYHXsUpsIDDGz9nFAwhBgYnxujZkNjMc6M2tfFR1DRBqrESMou+F2rmx3Jd/iIfo1n8Pkm99i\ntx8PT7pmjUIS54QOAs4AZpnZm7HsEuBK4AEzGwUsBL4dn3sCOBaYB5QBZwO4+0ozuwKYGrf7rbuv\njPe/D9wFbAc8GX+o4hgi0ggtXAg33QS33noan62Cb34T7rlnP1q23K/6F0tOWBhAJpUpKSnxadOm\nJV0NEckR9zDdzl/+Ao88Eh6ffDL88IdhCh6NgMsNM5vu7tV2aGoCUxFpFNavD0tvX389zJgRFp37\n6U/h/PO1AmqSNG2PiCSnipkKcmXZMrjsshA0Z50FX34Jf/sbLFoEV12lAEqaWkIikozUTAWpC0VT\nMxUAjBix1bufOjW0eu6/HzZtCkOtL7oIBg9Wl1sxUUtIRJJRyUwFXHppnXe5cWMInUGDYMCAcKHp\nD34A778f5nw76igFULFRS0hEklHBTAVVllfhk0/g1lvDSLclS6BXrzDw4KyzYPvtt66akl8KIRFJ\nRvfuoQuuovIamjkzdLmNHx/O9Rx9NPz1r3DsseE0kxQ//TOJSDIyZir4r5YtQ3kVNm+Gf/0LjjgC\n+vaFf/wDRo6Et9+GSZPg+OMVQPWJWkIikozU4INLLw1dcN27hwCqZFDCqlVhKYUbb4T588Pmf/wj\njBoFHToUsN6SUwohEUnOiBHVjoR7773Q5TZuHKxdC4ccAldfDcOHQzN9g9V7arSKNEYFuD5na2zZ\nAk89BcccA3vuCbfdBt/+drjI9KWX4FvfUgA1FPpnFGls8nx9ztb44ovQ4rnhhtAC6tIFfvtbOPdc\n2KHC1b+kvlNLSKSxycP1OVtr/vwwhU63bnDBBdC2bcjKjz6C//f/FEANmVpCIo1NDq/PqY21a2HB\nghA4qdvUz8yZoWfwlFPCrAYDB+a1KlJEFEIijU0Ors+pyIYNYbfZAZMKnRVZS0hutx3sums4JXXi\niaFHsGvXraqC1EMKIWkwNm0KX3TLlsHSpeEn+/6yZeGkd8uW4adVq/T9rX3cokU9mRJmzJjy54Sg\nxtfnLFlSccDMnx+ey1wZplkz6NEjBM3w4enA2XXX8LPDDvXk85K8UghJ0Vu7tupgSd0vLS3/JZjS\noQPstFM4yT1oUPhyLCsL+y0rg5UrYfHi9OPUc1u21K6eZuUDqtLQWjKXllNfpMWaUrZt24IWww5n\n24H9adEiBNm229bsNnV/m21q+WVeyfU5fvoIli+rOGDmzw+bbtpU/v126xaC5cgj0+GS+tl5Z2ja\ntHafoTQ+WtSuGlrULj/c4dNPqw6V1P01a776+mbNYMcdQ7ikAqai+zvuGL6o61K/DRvKh1Lqfm0f\nl3tuxRrWlq6jjO34khZsYput/izNah9cqdstW0IXWipwvvyy/L532OGr4ZJqzXTvDs2bb3X1pYHS\nonaSuE2bwjDbN94IP/PmpQNm+fIw43G21q3TIdKvHwwbVnG4dOyY36lZUl/s224bFj/LmZ5fB9Ln\nYzbThPVsy/puvfjy9ZmsXx+CoLLbqp6r6nbt2tDiy94XhDDp0yfMt5YdNtmz6ojkmkJIcmLt2jDC\n6c03Q+C8+SbMmpX+omvRAnr3DgHSp0/lrZfWrZN9H3mXNQKtKVtoyTpaLpkNOyVUJ5EEKYSk1kpL\n00GTun3vvfT5mPbtoX//sI5L//7hZ489iuAK9/HjazxPWd7kaWSaSH2V9NeCFDH3cK4gO3CWLElv\n0717CJlTT00Hzi67FOGop2KZJaCOI9NEGioNTKhGYxmYsHEjvPPOVwPn88/D802bhjm8+vcP52pS\ntzWavbgYWiA9e1bcAunRI5yRL6Ri+DxE8qymAxMUQtWocwgV8RfNmjXw1lvlA+ftt8NoMAh/mO+7\nb/nA2WefcHFhrWW3QFIHGDu2sJ9HkyYVj982q/1YbBGplkIoR+oUQsXyxUsYiZbZskmNUkvp1Cnd\njZYKnd69c3h9R7G0QIqlHiKNhEIoR+oUQgl84W3ZAh98kB4OnQqc5cvT2+y2W7plkwqcnXfO8/mb\nYmmBFNEfBiKNga4TSlKeJ4hcvx5mzy7fwnnrrTANPoRRaHvvHa6xSQVO375hZuKCK5bRYLVcxVNE\nCkMhlA85/OJdtSqETGbgvPNOevqU1q1Di+bss9OtnD596jZLQF4U02iwGqziKSKFpRDKhzp88bqH\noc/Zo9Pmz09v06VLCJnjj08Hzm675XfmgK2mFoiIVEHnhKqRj9FxmzfD++9/NXA++ST98t69y5+7\n6dcvhJCISH2ggQk5srXXCa1bF6avyQycmTNDOYQJIPfZp3zg7LsvtGmTozcgIpIADUxI2Lvvwre+\nFW5Tg8Datg1Bc+656cDZa68wFb+ISGPU6ELIzIYBfwGaAre5+5X5OE6XLuF8zbe+lQ6cnj2LcDob\nEZEENaoQMrOmwE3A0cBiYKqZTXD3d3J9rHbt4LHHcr1XEZGGpZjHVeXDAGCeu3/o7huA+4DhCddJ\nRKTRamwh1BVYlPF4cSwrx8xGm9k0M5tWWlpasMqJiDQ2jS2EKjoj85Xhge4+1t1L3L2kc+fOBaiW\niEjj1NhCaDGwS8bjbsDHCdVFRKTRa2whNBXobWa7mllz4DRgQsJ1EhFptBrV6Dh332RmFwATCUO0\n73D3txOulohIo9WoQgjA3Z8Anki6HiIi0vi640REpIho7rhqmFkpUMG6DDXWCfik2q3yqxjqAKpH\ntmKoRzHUAVSPbMVQj62tQw93r3Z4sUIoz8xsWk0m8WvodVA9irMexVAH1aM461GoOqg7TkREEqMQ\nEhGRxCiE8m9s0hWgOOoAqke2YqhHMdQBVI9sxVCPgtRB54RERCQxagmJiEhiFEIiIpIYhVCemNkd\nZrbCzGYnfVwz62BmT5vZ3HjbvsB12sXMnjezOWb2tpldVMjjxzq0MLPXzeytWIfLC12HrPo0NbM3\nzOzxBOuwwMxmmdmbZjYtwXq0M7MHzezd+DtyYIGPv0f8DFI/n5vZjwpZh4y6/Dj+fs42s3vNrEVC\n9bgo1uHtfH8WCqH8uQsYViTHvRh41t17A8/Gx4W0Cfipu+8FDATON7M+Ba7DeuBId+8L9AOGmdnA\nAtch00XAnASPn3KEu/dL+JqUvwBPufueQF8K/Lm4+3vxM+gH7A+UAY8Usg4AZtYV+CFQ4u77EOa3\nPC2BeuwD/C9hEdC+wPFm1jtfx1MI5Ym7vwSsLJLjDgfGxfvjgJMKXKel7j4j3l9D+JL5ymKCea6D\nu/sX8eE28SeRUTlm1g04DrgtieMXEzPbHjgUuB3A3Te4+6oEqzQY+MDdt2aWlK3RDNjOzJoBLUlm\nqZm9gNfcvczdNwEvAt/M18EUQo3Dju6+FEIgADskVREz6wn0B6YkcOymZvYmsAJ42t0LXofoOuDn\nwJaEjp/iwCQzm25moxOqw25AKXBn7J68zcxaJVQXCC2Pe5M4sLsvAa4BFgJLgdXuPimBqswGDjWz\njmbWEjiW8uuw5ZRCSArGzFoDDwE/cvfPC318d98cu1y6AQNit0NBmdnxwAp3n17oY1fgIHffDziG\n0EV6aAJ1aAbsB9zi7v2BtRS+uxiAuMbYicA/Ezp+e0Kvxa7AzkArM/tuoevh7nOAq4CngaeAtwhd\n6nmhEGoclpvZTgDxdkWhK2Bm2xACaLy7P1zo42eK3T0vkMw5u4OAE81sAXAfcKSZ3ZNAPXD3j+Pt\nCsI5kAEJVGMxsDijVfogIZSScAwww92XJ3T8o4D57l7q7huBh4FBSVTE3W939/3c/VBC9/7cfB1L\nIdQ4TABGxvsjgUcLeXAzM0Kf/xx3/3Mhj51Rh85m1i7e347wH/7dQtfD3X/p7t3cvSeh6+c5dy/4\nX7tm1srM2qTuA0MI3TAF5e7LgEVmtkcsGgy8U+h6RN8hoa64aCEw0Mxaxv8zg0lo8IqZ7RBvuwMn\nk8fPpdEtalcoZnYvcDjQycwWA5e5++1JHBe4EnjAzEYRftG/ne96ZDkIOAOYFc/JAFwSFxgslJ2A\ncWbWlPDH1wPuntjw6CKwI/BI+K6jGfAPd38qobpcCIyP3WEfAmcXugLx3MfRwLmFPnaKu08xsweB\nGYTurzdIbvqeh8ysI7ARON/dP8vXgTRtj4iIJEbdcSIikhiFkIiIJEYhJCIiiVEIiYhIYhRCIiKS\nGIWQSB2Z2eY46/JsM/tnHOZb233clprM1cwuyXpuco7qeZeZnVLNNi+YWY0nMTWzw5OcAVwaDoWQ\nSN2ti7Mv7wNsAM6r7Q7c/Rx3T12ceUnWc4lcLS9SSAohkdx4GegFYGY/ia2j2am1WOIMBf+O6xnN\nNrNTY/kLZlZiZlcSZk9+08zGx+e+iLdmZlfH183KeO3h8fWptXjGxyvtK2VmvzazqXFfY7O2/66Z\nTY7PDcio9x3xNW+Y2fAcf27SyGnGBJGtFKfdPwZ4ysz2J1zxfwBgwBQze5EwW/TH7n5cfE3bzH24\n+8VmdkGcYDXbyYQ1kPoCnYCpZvZSfK4/sDdhyv//EGaneKWK6t7o7r+Ndfg7cDzwWHyulbsPihOZ\n3gHsA1xKmFroe3Hao9fN7JmafjYi1VFLSKTutovTEE0jTId0O3Aw8Ii7r43rFz0MHALMAo4ys6vM\n7BB3X12L4xwM3BtnAV9OWN/lG/G51919sbtvAd4EelazryPMbIqZzQKOJARYyr3w3zWpto+hMwS4\nOL7PF4AWQPda1F2kSmoJidTduuyWS2XdYe7+fmwlHQv8wcwmpVokNVBVF9v6jPubqeL/tIWlom8m\nrNy5yMx+QwiV/1Yzu9rx2N9y9/ey9rVjDeotUi21hERy6yXgpDgTcivCipQvm9nOQJm730NYuKyi\n5Qo2xiUvKtrnqRYW5etMWIn09TrULRU4n1hY2yl7xFzqXNPBhAXVVgMTgQtT4Wpm/etwXJFKqSUk\nkkPuPsPM7iIdEre5+xtmNhS42sy2EGYm/n4FLx8LzDSzGe4+IqP8EeBAwuJiDvzc3ZeZ2Z61rNsq\nM7uV0DW4AJiatclncVj49sD3YtkVhJVgZ8YgWkA4jySSE5pFW0REEqPuOBERSYxCSEREEqMQEhGR\nxCiEREQkMQohERFJjEJIREQSoxASEZHE/H/GYiZTC8J/zAAAAABJRU5ErkJggg==\n",
      "text/plain": [
<<<<<<< HEAD:OC_AZMachineLearning/02_Regression/06_PolyRegression/Python_PolyReg.ipynb
       "<matplotlib.figure.Figure at 0x107fc4cf8>"
=======
       "<matplotlib.figure.Figure at 0x1a1c7e8be0>"
>>>>>>> 95c18a0d689615bb411482efa8a968cc072ebfee:OC_AZMachineLearning/02_Regression/06_PolyRegression/.ipynb_checkpoints/Python_PolyRegression-checkpoint.ipynb
      ]
     },
     "metadata": {},
     "output_type": "display_data"
    }
   ],
   "source": [
    "# Visualizing the results \n",
    "\n",
    "polyreg = PolynomialFeatures(degree=3)\n",
    "Xpoly_3 = polyreg.fit_transform(Xs)\n",
    "\n",
    "linreg_3 = LinearRegression()\n",
    "linreg_3.fit(Xpoly_3, y)\n",
    "\n",
    "plt.scatter(Xs, y, c='red')\n",
    "plt.plot(Xs, linreg_3.predict(Xpoly_3), c='blue')\n",
    "plt.title(\"Truth or Bluff (Polynomial Regression)\")\n",
    "plt.xlabel('Position label')\n",
    "plt.ylabel('Salary')\n",
    "plt.show()"
   ]
  },
  {
   "cell_type": "code",
<<<<<<< HEAD:OC_AZMachineLearning/02_Regression/06_PolyRegression/Python_PolyReg.ipynb
   "execution_count": 58,
   "metadata": {},
   "outputs": [
    {
     "data": {
      "text/plain": [
       "(1, 3)"
      ]
     },
     "execution_count": 58,
     "metadata": {},
     "output_type": "execute_result"
    }
   ],
   "source": [
    "val.shape"
   ]
  },
  {
   "cell_type": "code",
   "execution_count": 60,
=======
   "execution_count": 18,
>>>>>>> 95c18a0d689615bb411482efa8a968cc072ebfee:OC_AZMachineLearning/02_Regression/06_PolyRegression/.ipynb_checkpoints/Python_PolyRegression-checkpoint.ipynb
   "metadata": {},
   "outputs": [
    {
     "name": "stdout",
     "output_type": "stream",
     "text": [
      "$ 330378.79 using the linear regression\n"
     ]
    },
    {
     "ename": "ValueError",
     "evalue": "shapes (1,4) and (3,) not aligned: 4 (dim 1) != 3 (dim 0)",
     "output_type": "error",
     "traceback": [
      "\u001b[0;31m---------------------------------------------------------------------------\u001b[0m",
      "\u001b[0;31mValueError\u001b[0m                                Traceback (most recent call last)",
      "\u001b[0;32m<ipython-input-18-b3dd7a03afdb>\u001b[0m in \u001b[0;36m<module>\u001b[0;34m()\u001b[0m\n\u001b[1;32m      3\u001b[0m \u001b[0;34m\u001b[0m\u001b[0m\n\u001b[1;32m      4\u001b[0m \u001b[0mval\u001b[0m \u001b[0;34m=\u001b[0m \u001b[0mpolyreg\u001b[0m\u001b[0;34m.\u001b[0m\u001b[0mfit_transform\u001b[0m\u001b[0;34m(\u001b[0m\u001b[0;36m6.5\u001b[0m\u001b[0;34m)\u001b[0m\u001b[0;34m\u001b[0m\u001b[0m\n\u001b[0;32m----> 5\u001b[0;31m \u001b[0mprint\u001b[0m\u001b[0;34m(\u001b[0m\u001b[0;34m\"$ {0:.2f} using the polynomial regression with the second degree\"\u001b[0m\u001b[0;34m.\u001b[0m\u001b[0mformat\u001b[0m\u001b[0;34m(\u001b[0m\u001b[0mlinreg_2\u001b[0m\u001b[0;34m.\u001b[0m\u001b[0mpredict\u001b[0m\u001b[0;34m(\u001b[0m\u001b[0mval\u001b[0m\u001b[0;34m)\u001b[0m\u001b[0;34m[\u001b[0m\u001b[0;36m0\u001b[0m\u001b[0;34m]\u001b[0m\u001b[0;34m)\u001b[0m\u001b[0;34m)\u001b[0m\u001b[0;34m\u001b[0m\u001b[0m\n\u001b[0m",
      "\u001b[0;32m~/anaconda3/lib/python3.6/site-packages/sklearn/linear_model/base.py\u001b[0m in \u001b[0;36mpredict\u001b[0;34m(self, X)\u001b[0m\n\u001b[1;32m    254\u001b[0m             \u001b[0mReturns\u001b[0m \u001b[0mpredicted\u001b[0m \u001b[0mvalues\u001b[0m\u001b[0;34m.\u001b[0m\u001b[0;34m\u001b[0m\u001b[0m\n\u001b[1;32m    255\u001b[0m         \"\"\"\n\u001b[0;32m--> 256\u001b[0;31m         \u001b[0;32mreturn\u001b[0m \u001b[0mself\u001b[0m\u001b[0;34m.\u001b[0m\u001b[0m_decision_function\u001b[0m\u001b[0;34m(\u001b[0m\u001b[0mX\u001b[0m\u001b[0;34m)\u001b[0m\u001b[0;34m\u001b[0m\u001b[0m\n\u001b[0m\u001b[1;32m    257\u001b[0m \u001b[0;34m\u001b[0m\u001b[0m\n\u001b[1;32m    258\u001b[0m     \u001b[0m_preprocess_data\u001b[0m \u001b[0;34m=\u001b[0m \u001b[0mstaticmethod\u001b[0m\u001b[0;34m(\u001b[0m\u001b[0m_preprocess_data\u001b[0m\u001b[0;34m)\u001b[0m\u001b[0;34m\u001b[0m\u001b[0m\n",
      "\u001b[0;32m~/anaconda3/lib/python3.6/site-packages/sklearn/linear_model/base.py\u001b[0m in \u001b[0;36m_decision_function\u001b[0;34m(self, X)\u001b[0m\n\u001b[1;32m    239\u001b[0m         \u001b[0mX\u001b[0m \u001b[0;34m=\u001b[0m \u001b[0mcheck_array\u001b[0m\u001b[0;34m(\u001b[0m\u001b[0mX\u001b[0m\u001b[0;34m,\u001b[0m \u001b[0maccept_sparse\u001b[0m\u001b[0;34m=\u001b[0m\u001b[0;34m[\u001b[0m\u001b[0;34m'csr'\u001b[0m\u001b[0;34m,\u001b[0m \u001b[0;34m'csc'\u001b[0m\u001b[0;34m,\u001b[0m \u001b[0;34m'coo'\u001b[0m\u001b[0;34m]\u001b[0m\u001b[0;34m)\u001b[0m\u001b[0;34m\u001b[0m\u001b[0m\n\u001b[1;32m    240\u001b[0m         return safe_sparse_dot(X, self.coef_.T,\n\u001b[0;32m--> 241\u001b[0;31m                                dense_output=True) + self.intercept_\n\u001b[0m\u001b[1;32m    242\u001b[0m \u001b[0;34m\u001b[0m\u001b[0m\n\u001b[1;32m    243\u001b[0m     \u001b[0;32mdef\u001b[0m \u001b[0mpredict\u001b[0m\u001b[0;34m(\u001b[0m\u001b[0mself\u001b[0m\u001b[0;34m,\u001b[0m \u001b[0mX\u001b[0m\u001b[0;34m)\u001b[0m\u001b[0;34m:\u001b[0m\u001b[0;34m\u001b[0m\u001b[0m\n",
      "\u001b[0;32m~/anaconda3/lib/python3.6/site-packages/sklearn/utils/extmath.py\u001b[0m in \u001b[0;36msafe_sparse_dot\u001b[0;34m(a, b, dense_output)\u001b[0m\n\u001b[1;32m    138\u001b[0m         \u001b[0;32mreturn\u001b[0m \u001b[0mret\u001b[0m\u001b[0;34m\u001b[0m\u001b[0m\n\u001b[1;32m    139\u001b[0m     \u001b[0;32melse\u001b[0m\u001b[0;34m:\u001b[0m\u001b[0;34m\u001b[0m\u001b[0m\n\u001b[0;32m--> 140\u001b[0;31m         \u001b[0;32mreturn\u001b[0m \u001b[0mnp\u001b[0m\u001b[0;34m.\u001b[0m\u001b[0mdot\u001b[0m\u001b[0;34m(\u001b[0m\u001b[0ma\u001b[0m\u001b[0;34m,\u001b[0m \u001b[0mb\u001b[0m\u001b[0;34m)\u001b[0m\u001b[0;34m\u001b[0m\u001b[0m\n\u001b[0m\u001b[1;32m    141\u001b[0m \u001b[0;34m\u001b[0m\u001b[0m\n\u001b[1;32m    142\u001b[0m \u001b[0;34m\u001b[0m\u001b[0m\n",
      "\u001b[0;31mValueError\u001b[0m: shapes (1,4) and (3,) not aligned: 4 (dim 1) != 3 (dim 0)"
     ]
    }
   ],
   "source": [
    "# Predictions\n",
    "print(\"$ {0:.2f} using the linear regression\".format(linreg.predict(6.5)[0]))\n",
    "\n",
    "val = polyreg.fit_transform(6.5)\n",
    "\n",
    "polyreg = PolynomialFeatures(degree=2)\n",
    "X_poly = polyreg.fit_transform(Xs)\n",
    "\n",
    "linreg_2 = LinearRegression()\n",
    "linreg_2.fit(X_poly, y)\n",
    "\n",
    "print(\"$ {0:.2f} using the polynomial regression with the second degree\".format(linreg_2.predict(val)[0]))"
   ]
  }
 ],
 "metadata": {
  "kernelspec": {
   "display_name": "Python 3",
   "language": "python",
   "name": "python3"
  },
  "language_info": {
   "codemirror_mode": {
    "name": "ipython",
    "version": 3
   },
   "file_extension": ".py",
   "mimetype": "text/x-python",
   "name": "python",
   "nbconvert_exporter": "python",
   "pygments_lexer": "ipython3",
   "version": "3.6.3"
  }
 },
 "nbformat": 4,
 "nbformat_minor": 2
}
